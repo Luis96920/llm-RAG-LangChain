{
 "cells": [
  {
   "cell_type": "code",
   "execution_count": 1,
   "metadata": {},
   "outputs": [],
   "source": [
    "import polars as pl"
   ]
  },
  {
   "cell_type": "code",
   "execution_count": 2,
   "metadata": {},
   "outputs": [],
   "source": [
    "HOSPITAL_DATA_PATH = \"llm-rag/data/hospitals.csv\""
   ]
  },
  {
   "cell_type": "code",
   "execution_count": 3,
   "metadata": {},
   "outputs": [],
   "source": [
    "data_hospitals = pl.read_csv(HOSPITAL_DATA_PATH)"
   ]
  },
  {
   "cell_type": "code",
   "execution_count": 4,
   "metadata": {},
   "outputs": [
    {
     "data": {
      "text/plain": [
       "(30, 3)"
      ]
     },
     "execution_count": 4,
     "metadata": {},
     "output_type": "execute_result"
    }
   ],
   "source": [
    "data_hospitals.shape"
   ]
  },
  {
   "cell_type": "code",
   "execution_count": 5,
   "metadata": {},
   "outputs": [
    {
     "data": {
      "text/html": [
       "<div><style>\n",
       ".dataframe > thead > tr > th,\n",
       ".dataframe > tbody > tr > td {\n",
       "  text-align: right;\n",
       "}\n",
       "</style>\n",
       "<small>shape: (5, 3)</small><table border=\"1\" class=\"dataframe\"><thead><tr><th>hospital_id</th><th>hospital_name</th><th>hospital_state</th></tr><tr><td>i64</td><td>str</td><td>str</td></tr></thead><tbody><tr><td>0</td><td>&quot;Wallace-Hamilt…</td><td>&quot;CO&quot;</td></tr><tr><td>1</td><td>&quot;Burke, Griffin…</td><td>&quot;NC&quot;</td></tr><tr><td>2</td><td>&quot;Walton LLC&quot;</td><td>&quot;FL&quot;</td></tr><tr><td>3</td><td>&quot;Garcia Ltd&quot;</td><td>&quot;NC&quot;</td></tr><tr><td>4</td><td>&quot;Jones, Brown a…</td><td>&quot;NC&quot;</td></tr></tbody></table></div>"
      ],
      "text/plain": [
       "shape: (5, 3)\n",
       "┌─────────────┬───────────────────────────┬────────────────┐\n",
       "│ hospital_id ┆ hospital_name             ┆ hospital_state │\n",
       "│ ---         ┆ ---                       ┆ ---            │\n",
       "│ i64         ┆ str                       ┆ str            │\n",
       "╞═════════════╪═══════════════════════════╪════════════════╡\n",
       "│ 0           ┆ Wallace-Hamilton          ┆ CO             │\n",
       "│ 1           ┆ Burke, Griffin and Cooper ┆ NC             │\n",
       "│ 2           ┆ Walton LLC                ┆ FL             │\n",
       "│ 3           ┆ Garcia Ltd                ┆ NC             │\n",
       "│ 4           ┆ Jones, Brown and Murray   ┆ NC             │\n",
       "└─────────────┴───────────────────────────┴────────────────┘"
      ]
     },
     "execution_count": 5,
     "metadata": {},
     "output_type": "execute_result"
    }
   ],
   "source": [
    "data_hospitals.head()"
   ]
  },
  {
   "cell_type": "code",
   "execution_count": 6,
   "metadata": {},
   "outputs": [],
   "source": [
    "PHYSICIAN_DATA_PATH = \"llm-rag/data/physicians.csv\""
   ]
  },
  {
   "cell_type": "code",
   "execution_count": 7,
   "metadata": {},
   "outputs": [
    {
     "data": {
      "text/plain": [
       "(500, 6)"
      ]
     },
     "execution_count": 7,
     "metadata": {},
     "output_type": "execute_result"
    }
   ],
   "source": [
    "data_physician = pl.read_csv(PHYSICIAN_DATA_PATH)\n",
    "data_physician.shape"
   ]
  },
  {
   "cell_type": "code",
   "execution_count": 8,
   "metadata": {},
   "outputs": [
    {
     "data": {
      "text/html": [
       "<div><style>\n",
       ".dataframe > thead > tr > th,\n",
       ".dataframe > tbody > tr > td {\n",
       "  text-align: right;\n",
       "}\n",
       "</style>\n",
       "<small>shape: (5, 6)</small><table border=\"1\" class=\"dataframe\"><thead><tr><th>physician_name</th><th>physician_id</th><th>physician_dob</th><th>physician_grad_year</th><th>medical_school</th><th>salary</th></tr><tr><td>str</td><td>i64</td><td>str</td><td>str</td><td>str</td><td>f64</td></tr></thead><tbody><tr><td>&quot;Joseph Johnson…</td><td>0</td><td>&quot;1970-02-22&quot;</td><td>&quot;2000-02-22&quot;</td><td>&quot;Johns Hopkins …</td><td>309534.155076</td></tr><tr><td>&quot;Jason Williams…</td><td>1</td><td>&quot;1982-12-22&quot;</td><td>&quot;2012-12-22&quot;</td><td>&quot;Mayo Clinic Al…</td><td>281114.503559</td></tr><tr><td>&quot;Jesse Gordon&quot;</td><td>2</td><td>&quot;1959-06-03&quot;</td><td>&quot;1989-06-03&quot;</td><td>&quot;David Geffen S…</td><td>305845.584636</td></tr><tr><td>&quot;Heather Smith&quot;</td><td>3</td><td>&quot;1965-06-15&quot;</td><td>&quot;1995-06-15&quot;</td><td>&quot;NYU Grossman M…</td><td>295239.766689</td></tr><tr><td>&quot;Kayla Hunter D…</td><td>4</td><td>&quot;1978-10-19&quot;</td><td>&quot;2008-10-19&quot;</td><td>&quot;David Geffen S…</td><td>298751.355201</td></tr></tbody></table></div>"
      ],
      "text/plain": [
       "shape: (5, 6)\n",
       "┌─────────────────┬──────────────┬───────────────┬────────────────┬────────────────┬───────────────┐\n",
       "│ physician_name  ┆ physician_id ┆ physician_dob ┆ physician_grad ┆ medical_school ┆ salary        │\n",
       "│ ---             ┆ ---          ┆ ---           ┆ _year          ┆ ---            ┆ ---           │\n",
       "│ str             ┆ i64          ┆ str           ┆ ---            ┆ str            ┆ f64           │\n",
       "│                 ┆              ┆               ┆ str            ┆                ┆               │\n",
       "╞═════════════════╪══════════════╪═══════════════╪════════════════╪════════════════╪═══════════════╡\n",
       "│ Joseph Johnson  ┆ 0            ┆ 1970-02-22    ┆ 2000-02-22     ┆ Johns Hopkins  ┆ 309534.155076 │\n",
       "│                 ┆              ┆               ┆                ┆ University     ┆               │\n",
       "│                 ┆              ┆               ┆                ┆ School …       ┆               │\n",
       "│ Jason Williams  ┆ 1            ┆ 1982-12-22    ┆ 2012-12-22     ┆ Mayo Clinic    ┆ 281114.503559 │\n",
       "│                 ┆              ┆               ┆                ┆ Alix School of ┆               │\n",
       "│                 ┆              ┆               ┆                ┆ Medic…         ┆               │\n",
       "│ Jesse Gordon    ┆ 2            ┆ 1959-06-03    ┆ 1989-06-03     ┆ David Geffen   ┆ 305845.584636 │\n",
       "│                 ┆              ┆               ┆                ┆ School of      ┆               │\n",
       "│                 ┆              ┆               ┆                ┆ Medicine …     ┆               │\n",
       "│ Heather Smith   ┆ 3            ┆ 1965-06-15    ┆ 1995-06-15     ┆ NYU Grossman   ┆ 295239.766689 │\n",
       "│                 ┆              ┆               ┆                ┆ Medical School ┆               │\n",
       "│ Kayla Hunter    ┆ 4            ┆ 1978-10-19    ┆ 2008-10-19     ┆ David Geffen   ┆ 298751.355201 │\n",
       "│ DDS             ┆              ┆               ┆                ┆ School of      ┆               │\n",
       "│                 ┆              ┆               ┆                ┆ Medicine …     ┆               │\n",
       "└─────────────────┴──────────────┴───────────────┴────────────────┴────────────────┴───────────────┘"
      ]
     },
     "execution_count": 8,
     "metadata": {},
     "output_type": "execute_result"
    }
   ],
   "source": [
    "data_physician.head()"
   ]
  },
  {
   "cell_type": "code",
   "execution_count": 11,
   "metadata": {},
   "outputs": [],
   "source": [
    "PAYERS_DATA_PATH = \"llm-rag/data/payers.csv\""
   ]
  },
  {
   "cell_type": "code",
   "execution_count": 12,
   "metadata": {},
   "outputs": [],
   "source": [
    "data_payers = pl.read_csv(\"llm-rag/data/payers.csv\")"
   ]
  },
  {
   "cell_type": "code",
   "execution_count": 13,
   "metadata": {},
   "outputs": [
    {
     "data": {
      "text/html": [
       "<div><style>\n",
       ".dataframe > thead > tr > th,\n",
       ".dataframe > tbody > tr > td {\n",
       "  text-align: right;\n",
       "}\n",
       "</style>\n",
       "<small>shape: (5, 2)</small><table border=\"1\" class=\"dataframe\"><thead><tr><th>payer_name</th><th>payer_id</th></tr><tr><td>str</td><td>i64</td></tr></thead><tbody><tr><td>&quot;Medicaid&quot;</td><td>0</td></tr><tr><td>&quot;UnitedHealthca…</td><td>1</td></tr><tr><td>&quot;Aetna&quot;</td><td>2</td></tr><tr><td>&quot;Cigna&quot;</td><td>3</td></tr><tr><td>&quot;Blue Cross&quot;</td><td>4</td></tr></tbody></table></div>"
      ],
      "text/plain": [
       "shape: (5, 2)\n",
       "┌──────────────────┬──────────┐\n",
       "│ payer_name       ┆ payer_id │\n",
       "│ ---              ┆ ---      │\n",
       "│ str              ┆ i64      │\n",
       "╞══════════════════╪══════════╡\n",
       "│ Medicaid         ┆ 0        │\n",
       "│ UnitedHealthcare ┆ 1        │\n",
       "│ Aetna            ┆ 2        │\n",
       "│ Cigna            ┆ 3        │\n",
       "│ Blue Cross       ┆ 4        │\n",
       "└──────────────────┴──────────┘"
      ]
     },
     "execution_count": 13,
     "metadata": {},
     "output_type": "execute_result"
    }
   ],
   "source": [
    "data_payers.head()"
   ]
  },
  {
   "cell_type": "code",
   "execution_count": 14,
   "metadata": {},
   "outputs": [],
   "source": [
    "REVIEWS_DATA_PATH = \"llm-rag/data/reviews.csv\""
   ]
  },
  {
   "cell_type": "code",
   "execution_count": 15,
   "metadata": {},
   "outputs": [
    {
     "data": {
      "text/html": [
       "<div><style>\n",
       ".dataframe > thead > tr > th,\n",
       ".dataframe > tbody > tr > td {\n",
       "  text-align: right;\n",
       "}\n",
       "</style>\n",
       "<small>shape: (5, 6)</small><table border=\"1\" class=\"dataframe\"><thead><tr><th>review_id</th><th>visit_id</th><th>review</th><th>physician_name</th><th>hospital_name</th><th>patient_name</th></tr><tr><td>i64</td><td>i64</td><td>str</td><td>str</td><td>str</td><td>str</td></tr></thead><tbody><tr><td>0</td><td>6997</td><td>&quot;The medical st…</td><td>&quot;Laura Brown&quot;</td><td>&quot;Wallace-Hamilt…</td><td>&quot;Christy Johnso…</td></tr><tr><td>9</td><td>8138</td><td>&quot;The hospital&#x27;s…</td><td>&quot;Steven Watson&quot;</td><td>&quot;Wallace-Hamilt…</td><td>&quot;Anna Frazier&quot;</td></tr><tr><td>11</td><td>680</td><td>&quot;The hospital&#x27;s…</td><td>&quot;Chase Mcpherso…</td><td>&quot;Wallace-Hamilt…</td><td>&quot;Abigail Mitche…</td></tr><tr><td>892</td><td>9846</td><td>&quot;I had a positi…</td><td>&quot;Jason Martinez…</td><td>&quot;Wallace-Hamilt…</td><td>&quot;Kimberly Rivas…</td></tr><tr><td>822</td><td>7397</td><td>&quot;The medical te…</td><td>&quot;Chelsey Davis&quot;</td><td>&quot;Wallace-Hamilt…</td><td>&quot;Catherine Yang…</td></tr></tbody></table></div>"
      ],
      "text/plain": [
       "shape: (5, 6)\n",
       "┌───────────┬──────────┬──────────────────┬──────────────────┬──────────────────┬──────────────────┐\n",
       "│ review_id ┆ visit_id ┆ review           ┆ physician_name   ┆ hospital_name    ┆ patient_name     │\n",
       "│ ---       ┆ ---      ┆ ---              ┆ ---              ┆ ---              ┆ ---              │\n",
       "│ i64       ┆ i64      ┆ str              ┆ str              ┆ str              ┆ str              │\n",
       "╞═══════════╪══════════╪══════════════════╪══════════════════╪══════════════════╪══════════════════╡\n",
       "│ 0         ┆ 6997     ┆ The medical      ┆ Laura Brown      ┆ Wallace-Hamilton ┆ Christy Johnson  │\n",
       "│           ┆          ┆ staff at the     ┆                  ┆                  ┆                  │\n",
       "│           ┆          ┆ hospita…         ┆                  ┆                  ┆                  │\n",
       "│ 9         ┆ 8138     ┆ The hospital's   ┆ Steven Watson    ┆ Wallace-Hamilton ┆ Anna Frazier     │\n",
       "│           ┆          ┆ commitment to    ┆                  ┆                  ┆                  │\n",
       "│           ┆          ┆ pat…             ┆                  ┆                  ┆                  │\n",
       "│ 11        ┆ 680      ┆ The hospital's   ┆ Chase Mcpherson  ┆ Wallace-Hamilton ┆ Abigail Mitchell │\n",
       "│           ┆          ┆ commitment to    ┆ Jr.              ┆                  ┆                  │\n",
       "│           ┆          ┆ pat…             ┆                  ┆                  ┆                  │\n",
       "│ 892       ┆ 9846     ┆ I had a positive ┆ Jason Martinez   ┆ Wallace-Hamilton ┆ Kimberly Rivas   │\n",
       "│           ┆          ┆ experience over… ┆                  ┆                  ┆                  │\n",
       "│ 822       ┆ 7397     ┆ The medical team ┆ Chelsey Davis    ┆ Wallace-Hamilton ┆ Catherine Yang   │\n",
       "│           ┆          ┆ at the hospital… ┆                  ┆                  ┆                  │\n",
       "└───────────┴──────────┴──────────────────┴──────────────────┴──────────────────┴──────────────────┘"
      ]
     },
     "execution_count": 15,
     "metadata": {},
     "output_type": "execute_result"
    }
   ],
   "source": [
    "data_reviews = pl.read_csv(REVIEWS_DATA_PATH)\n",
    "data_reviews.head()"
   ]
  },
  {
   "cell_type": "code",
   "execution_count": 16,
   "metadata": {},
   "outputs": [],
   "source": [
    "VISITS_DATA_PATH = \"llm-rag/data/visits.csv\""
   ]
  },
  {
   "cell_type": "code",
   "execution_count": 18,
   "metadata": {},
   "outputs": [],
   "source": [
    "data_visits = pl.read_csv(VISITS_DATA_PATH)"
   ]
  },
  {
   "cell_type": "code",
   "execution_count": 19,
   "metadata": {},
   "outputs": [
    {
     "data": {
      "text/html": [
       "<div><style>\n",
       ".dataframe > thead > tr > th,\n",
       ".dataframe > tbody > tr > td {\n",
       "  text-align: right;\n",
       "}\n",
       "</style>\n",
       "<small>shape: (5, 15)</small><table border=\"1\" class=\"dataframe\"><thead><tr><th>patient_id</th><th>date_of_admission</th><th>billing_amount</th><th>room_number</th><th>admission_type</th><th>discharge_date</th><th>test_results</th><th>visit_id</th><th>physician_id</th><th>payer_id</th><th>hospital_id</th><th>chief_complaint</th><th>treatment_description</th><th>primary_diagnosis</th><th>visit_status</th></tr><tr><td>i64</td><td>str</td><td>f64</td><td>i64</td><td>str</td><td>str</td><td>str</td><td>i64</td><td>i64</td><td>i64</td><td>i64</td><td>str</td><td>str</td><td>str</td><td>str</td></tr></thead><tbody><tr><td>0</td><td>&quot;2022-11-17&quot;</td><td>37490.983364</td><td>146</td><td>&quot;Elective&quot;</td><td>&quot;2022-12-01&quot;</td><td>&quot;Inconclusive&quot;</td><td>0</td><td>102</td><td>1</td><td>0</td><td>null</td><td>null</td><td>null</td><td>&quot;DISCHARGED&quot;</td></tr><tr><td>1</td><td>&quot;2023-06-01&quot;</td><td>47304.064845</td><td>404</td><td>&quot;Emergency&quot;</td><td>null</td><td>&quot;Normal&quot;</td><td>1</td><td>435</td><td>4</td><td>5</td><td>null</td><td>null</td><td>null</td><td>&quot;OPEN&quot;</td></tr><tr><td>2</td><td>&quot;2019-01-09&quot;</td><td>36874.896997</td><td>292</td><td>&quot;Emergency&quot;</td><td>&quot;2019-02-08&quot;</td><td>&quot;Normal&quot;</td><td>2</td><td>348</td><td>2</td><td>6</td><td>null</td><td>null</td><td>null</td><td>&quot;DISCHARGED&quot;</td></tr><tr><td>3</td><td>&quot;2020-05-02&quot;</td><td>23303.322092</td><td>480</td><td>&quot;Urgent&quot;</td><td>&quot;2020-05-03&quot;</td><td>&quot;Abnormal&quot;</td><td>3</td><td>270</td><td>4</td><td>15</td><td>null</td><td>null</td><td>null</td><td>&quot;DISCHARGED&quot;</td></tr><tr><td>4</td><td>&quot;2021-07-09&quot;</td><td>18086.344184</td><td>477</td><td>&quot;Urgent&quot;</td><td>&quot;2021-08-02&quot;</td><td>&quot;Normal&quot;</td><td>4</td><td>106</td><td>2</td><td>29</td><td>&quot;Persistent cou…</td><td>&quot;Prescribed a c…</td><td>&quot;J45.909 - Unsp…</td><td>&quot;DISCHARGED&quot;</td></tr></tbody></table></div>"
      ],
      "text/plain": [
       "shape: (5, 15)\n",
       "┌───────────┬───────────┬───────────┬───────────┬───┬───────────┬───────────┬───────────┬──────────┐\n",
       "│ patient_i ┆ date_of_a ┆ billing_a ┆ room_numb ┆ … ┆ chief_com ┆ treatment ┆ primary_d ┆ visit_st │\n",
       "│ d         ┆ dmission  ┆ mount     ┆ er        ┆   ┆ plaint    ┆ _descript ┆ iagnosis  ┆ atus     │\n",
       "│ ---       ┆ ---       ┆ ---       ┆ ---       ┆   ┆ ---       ┆ ion       ┆ ---       ┆ ---      │\n",
       "│ i64       ┆ str       ┆ f64       ┆ i64       ┆   ┆ str       ┆ ---       ┆ str       ┆ str      │\n",
       "│           ┆           ┆           ┆           ┆   ┆           ┆ str       ┆           ┆          │\n",
       "╞═══════════╪═══════════╪═══════════╪═══════════╪═══╪═══════════╪═══════════╪═══════════╪══════════╡\n",
       "│ 0         ┆ 2022-11-1 ┆ 37490.983 ┆ 146       ┆ … ┆ null      ┆ null      ┆ null      ┆ DISCHARG │\n",
       "│           ┆ 7         ┆ 364       ┆           ┆   ┆           ┆           ┆           ┆ ED       │\n",
       "│ 1         ┆ 2023-06-0 ┆ 47304.064 ┆ 404       ┆ … ┆ null      ┆ null      ┆ null      ┆ OPEN     │\n",
       "│           ┆ 1         ┆ 845       ┆           ┆   ┆           ┆           ┆           ┆          │\n",
       "│ 2         ┆ 2019-01-0 ┆ 36874.896 ┆ 292       ┆ … ┆ null      ┆ null      ┆ null      ┆ DISCHARG │\n",
       "│           ┆ 9         ┆ 997       ┆           ┆   ┆           ┆           ┆           ┆ ED       │\n",
       "│ 3         ┆ 2020-05-0 ┆ 23303.322 ┆ 480       ┆ … ┆ null      ┆ null      ┆ null      ┆ DISCHARG │\n",
       "│           ┆ 2         ┆ 092       ┆           ┆   ┆           ┆           ┆           ┆ ED       │\n",
       "│ 4         ┆ 2021-07-0 ┆ 18086.344 ┆ 477       ┆ … ┆ Persisten ┆ Prescribe ┆ J45.909 - ┆ DISCHARG │\n",
       "│           ┆ 9         ┆ 184       ┆           ┆   ┆ t cough   ┆ d a combi ┆ Unspecifi ┆ ED       │\n",
       "│           ┆           ┆           ┆           ┆   ┆ and       ┆ nation of ┆ ed        ┆          │\n",
       "│           ┆           ┆           ┆           ┆   ┆ shortness ┆ inha…     ┆ asthma,   ┆          │\n",
       "│           ┆           ┆           ┆           ┆   ┆ o…        ┆           ┆ un…       ┆          │\n",
       "└───────────┴───────────┴───────────┴───────────┴───┴───────────┴───────────┴───────────┴──────────┘"
      ]
     },
     "execution_count": 19,
     "metadata": {},
     "output_type": "execute_result"
    }
   ],
   "source": [
    "data_visits.head()"
   ]
  }
 ],
 "metadata": {
  "kernelspec": {
   "display_name": "LLM",
   "language": "python",
   "name": "python3"
  },
  "language_info": {
   "codemirror_mode": {
    "name": "ipython",
    "version": 3
   },
   "file_extension": ".py",
   "mimetype": "text/x-python",
   "name": "python",
   "nbconvert_exporter": "python",
   "pygments_lexer": "ipython3",
   "version": "3.9.16"
  }
 },
 "nbformat": 4,
 "nbformat_minor": 2
}
